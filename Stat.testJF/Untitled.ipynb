{
 "cells": [
  {
   "cell_type": "code",
   "execution_count": 22,
   "metadata": {},
   "outputs": [],
   "source": [
    "# Importing previous dependencies for consistency\n",
    "#%matplotlib inline\n",
    "import numpy as np\n",
    "import pandas as pd\n",
    "import matplotlib.pyplot as plt\n",
    "from sklearn.preprocessing import LabelEncoder\n",
    "import scipy.stats as stats\n",
    "from statsmodels.formula.api import glm\n",
    "import statsmodels.api as sm\n",
    "\n",
    "import warnings\n",
    "warnings.filterwarnings('ignore')"
   ]
  },
  {
   "cell_type": "code",
   "execution_count": 31,
   "metadata": {},
   "outputs": [
    {
     "data": {
      "text/plain": [
       "Index(['Id', 'MSSubClass', 'MSZoning', 'LotFrontage', 'LotArea', 'Street',\n",
       "       'Alley', 'LotShape', 'LandContour', 'Utilities', 'LotConfig',\n",
       "       'LandSlope', 'Neighborhood', 'Condition1', 'Condition2', 'BldgType',\n",
       "       'HouseStyle', 'OverallQual', 'OverallCond', 'YearBuilt', 'YearRemodAdd',\n",
       "       'RoofStyle', 'RoofMatl', 'Exterior1st', 'Exterior2nd', 'MasVnrType',\n",
       "       'MasVnrArea', 'ExterQual', 'ExterCond', 'Foundation', 'BsmtQual',\n",
       "       'BsmtCond', 'BsmtExposure', 'BsmtFinType1', 'BsmtFinSF1',\n",
       "       'BsmtFinType2', 'BsmtFinSF2', 'BsmtUnfSF', 'TotalBsmtSF', 'Heating',\n",
       "       'HeatingQC', 'CentralAir', 'Electrical', '1stFlrSF', '2ndFlrSF',\n",
       "       'LowQualFinSF', 'GrLivArea', 'BsmtFullBath', 'BsmtHalfBath', 'FullBath',\n",
       "       'HalfBath', 'BedroomAbvGr', 'KitchenAbvGr', 'KitchenQual',\n",
       "       'TotRmsAbvGrd', 'Functional', 'Fireplaces', 'FireplaceQu', 'GarageType',\n",
       "       'GarageYrBlt', 'GarageFinish', 'GarageCars', 'GarageArea', 'GarageQual',\n",
       "       'GarageCond', 'PavedDrive', 'WoodDeckSF', 'OpenPorchSF',\n",
       "       'EnclosedPorch', '3SsnPorch', 'ScreenPorch', 'PoolArea', 'PoolQC',\n",
       "       'Fence', 'MiscFeature', 'MiscVal', 'MoSold', 'YrSold', 'SaleType',\n",
       "       'SaleCondition', 'SalePrice', 'ln_SalePrice'],\n",
       "      dtype='object')"
      ]
     },
     "execution_count": 31,
     "metadata": {},
     "output_type": "execute_result"
    }
   ],
   "source": [
    "# More setup from Chris's nb\n",
    "#Read data\n",
    "data = pd.read_csv(\"train.csv\")\n",
    "#take natural log of SalePrice\n",
    "data[\"ln_SalePrice\"] = np.log(data[\"SalePrice\"])\n",
    "data.columns\n",
    "#data[\"SalePrice\"]"
   ]
  },
  {
   "cell_type": "code",
   "execution_count": 27,
   "metadata": {},
   "outputs": [
    {
     "name": "stdout",
     "output_type": "stream",
     "text": [
      "           Fields  Dev1  Dev2\n",
      "0              Id     0     0\n",
      "1      MSSubClass     0     0\n",
      "58     GarageType     0     0\n",
      "57    FireplaceQu     0     0\n",
      "56     Fireplaces     0     0\n",
      "55     Functional     0     0\n",
      "54   TotRmsAbvGrd     0     0\n",
      "53    KitchenQual     0     0\n",
      "52   KitchenAbvGr     0     0\n",
      "51   BedroomAbvGr     0     0\n",
      "50       HalfBath     0     0\n",
      "49       FullBath     0     0\n",
      "48   BsmtHalfBath     0     0\n",
      "47   BsmtFullBath     0     0\n",
      "46      GrLivArea     0     0\n",
      "45   LowQualFinSF     0     0\n",
      "44       2ndFlrSF     0     0\n",
      "43       1stFlrSF     0     0\n",
      "42     Electrical     0     0\n",
      "59    GarageYrBlt     0     0\n",
      "60   GarageFinish     0     0\n",
      "61     GarageCars     0     0\n",
      "71       PoolArea     0     0\n",
      "78       SaleType     0     0\n",
      "77         YrSold     0     0\n",
      "76         MoSold     0     0\n",
      "75        MiscVal     0     0\n",
      "74    MiscFeature     0     0\n",
      "73          Fence     0     0\n",
      "72         PoolQC     0     0\n",
      "..            ...   ...   ...\n",
      "9       Utilities     0     0\n",
      "19      YearBuilt     0     0\n",
      "8     LandContour     0     0\n",
      "7        LotShape     0     0\n",
      "6           Alley     0     0\n",
      "5          Street     0     0\n",
      "4         LotArea     0     0\n",
      "3     LotFrontage     0     0\n",
      "2        MSZoning     0     0\n",
      "18    OverallCond     0     0\n",
      "20   YearRemodAdd     0     0\n",
      "38    TotalBsmtSF     0     0\n",
      "30       BsmtQual     0     0\n",
      "37      BsmtUnfSF     0     0\n",
      "36     BsmtFinSF2     0     0\n",
      "35   BsmtFinType2     0     0\n",
      "34     BsmtFinSF1     0     0\n",
      "33   BsmtFinType1     0     0\n",
      "32   BsmtExposure     0     0\n",
      "31       BsmtCond     0     0\n",
      "29     Foundation     0     0\n",
      "21      RoofStyle     0     0\n",
      "28      ExterCond     0     0\n",
      "27      ExterQual     0     0\n",
      "26     MasVnrArea     0     0\n",
      "25     MasVnrType     0     0\n",
      "24    Exterior2nd     0     0\n",
      "23    Exterior1st     0     0\n",
      "22       RoofMatl     0     0\n",
      "79  SaleCondition     0     0\n",
      "\n",
      "[80 rows x 3 columns]\n"
     ]
    }
   ],
   "source": [
    "# Similar structure from Chris's to run through statistics for each variable.\n",
    "# GLM consistent with Ordinary least squares\n",
    "\n",
    "\n",
    "dev_comp = pd.DataFrame()\n",
    "fields = []\n",
    "dev1 = []\n",
    "dev2 = []\n",
    "\n",
    "for i in range(80):\n",
    "    form1 = data[\"SalePrice\"]#\"SalePrice\"# + data.columns[i]\n",
    "    fields.append(data.columns[i])\n",
    "    try:\n",
    "        pv = stats.ttest_1samp(data[\"SalePrice\"], data.columns[i].mean()).pvalue#.mean()\n",
    "        dev1.append(pv)\n",
    "    except:\n",
    "        dev1.append(0)\n",
    "    \n",
    "    form1 = \"ln_SalePrice\"# + data.columns[i]\n",
    "    try:\n",
    "        pv = stats.ttest_1samp(form1, fields[i]).pvalue#.mean()\n",
    "        dev2.append(pv)\n",
    "    except:\n",
    "        dev2.append(0)  \n",
    "        \n",
    "    dev_comp.append([data.columns[i], dev1])\n",
    "\n",
    "dev_comp[\"Fields\"] = fields\n",
    "dev_comp[\"Dev1\"] = dev1\n",
    "dev_comp[\"Dev2\"] = dev2\n",
    "dev_comp = dev_comp.sort_values(by=\"Dev1\", ascending=False)\n",
    "print(dev_comp)"
   ]
  },
  {
   "cell_type": "code",
   "execution_count": 36,
   "metadata": {},
   "outputs": [
    {
     "data": {
      "text/plain": [
       "0        856\n",
       "1       1262\n",
       "2        920\n",
       "3        961\n",
       "4       1145\n",
       "5        796\n",
       "6       1694\n",
       "7       1107\n",
       "8       1022\n",
       "9       1077\n",
       "10      1040\n",
       "11      1182\n",
       "12       912\n",
       "13      1494\n",
       "14      1253\n",
       "15       854\n",
       "16      1004\n",
       "17      1296\n",
       "18      1114\n",
       "19      1339\n",
       "20      1158\n",
       "21      1108\n",
       "22      1795\n",
       "23      1060\n",
       "24      1060\n",
       "25      1600\n",
       "26       900\n",
       "27      1704\n",
       "28      1600\n",
       "29       520\n",
       "        ... \n",
       "1430     734\n",
       "1431     958\n",
       "1432     968\n",
       "1433     962\n",
       "1434    1126\n",
       "1435    1537\n",
       "1436     864\n",
       "1437    1932\n",
       "1438    1236\n",
       "1439    1040\n",
       "1440    1423\n",
       "1441     848\n",
       "1442    1026\n",
       "1443     952\n",
       "1444    1422\n",
       "1445     913\n",
       "1446    1188\n",
       "1447    1220\n",
       "1448     796\n",
       "1449     630\n",
       "1450     896\n",
       "1451    1578\n",
       "1452    1072\n",
       "1453    1140\n",
       "1454    1221\n",
       "1455     953\n",
       "1456    2073\n",
       "1457    1188\n",
       "1458    1078\n",
       "1459    1256\n",
       "Name: 1stFlrSF, Length: 1460, dtype: int64"
      ]
     },
     "execution_count": 36,
     "metadata": {},
     "output_type": "execute_result"
    }
   ],
   "source": [
    "field = []\n",
    "field.append(data.columns[10])\n",
    "field[0]\n",
    "data['1stFlrSF']"
   ]
  },
  {
   "cell_type": "code",
   "execution_count": 54,
   "metadata": {},
   "outputs": [
    {
     "data": {
      "text/plain": [
       "Ttest_indResult(statistic=-86.45855443686848, pvalue=0.0)"
      ]
     },
     "execution_count": 54,
     "metadata": {},
     "output_type": "execute_result"
    }
   ],
   "source": [
    "check = data[[\"SalePrice\",\"1stFlrSF\"]]\n",
    "check.dropna(1)\n",
    "\n",
    "#plt.scatter(check[\"1stFlrSF\"],check[\"SalePrice\"])\n",
    "\n",
    "stats.ttest_ind(check[\"1stFlrSF\"],check[\"SalePrice\"],equal_var = False)\n",
    "#stats.f_oneway(check[\"1stFlrSF\"],check[\"SalePrice\"])"
   ]
  },
  {
   "cell_type": "code",
   "execution_count": null,
   "metadata": {},
   "outputs": [],
   "source": []
  }
 ],
 "metadata": {
  "kernelspec": {
   "display_name": "Python 36 (PythonData)",
   "language": "python",
   "name": "pythondata"
  },
  "language_info": {
   "codemirror_mode": {
    "name": "ipython",
    "version": 3
   },
   "file_extension": ".py",
   "mimetype": "text/x-python",
   "name": "python",
   "nbconvert_exporter": "python",
   "pygments_lexer": "ipython3",
   "version": "3.7.3"
  }
 },
 "nbformat": 4,
 "nbformat_minor": 2
}
