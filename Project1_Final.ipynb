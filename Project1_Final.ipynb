{
 "cells": [
  {
   "cell_type": "markdown",
   "metadata": {},
   "source": [
    "# Predicting Housing Sale Prices in Ames, Iowa\n",
    "\n",
    "----\n",
    "\n",
    "\n",
    "\n",
    "\n",
    "### Project Description\n",
    "With 79 explanatory variables describing (almost) every aspect of residential homes in Ames, Iowa, our goal is to predict the final price of each home of the test data set using the training data set.\n",
    "\n",
    "\n",
    "### Research Question\n",
    "What housing characteristics affect the price of a home most significantly?\n",
    "\n",
    "Ho: The following housing characteristics have no effect on housing prices in Ames, Iowa.\n",
    "\n",
    "* Year remodeled\n",
    "* Lot area\n",
    "* Living area sq ft\n",
    "* Total basement sq ft\n",
    "* Overall quality \n",
    "\n",
    "Ha: The above housing characteristics have an effect on housing prices in Ames, Iowa.\n",
    "\n",
    "### Datasets\n",
    "\n",
    "80 Columns x 1460 Rows of housing sales data from years 2006 to 2010\n",
    "\n",
    "Source: https://www.kaggle.com/c/house-prices-advanced-regression-techniques/data\n",
    "\n",
    "\n",
    "----\n",
    "\n",
    "### Contents\n",
    "* Data Observation\n",
    "* Data Munging/Cleaning\n",
    "* Data Analysis\n",
    "* Predictive Model Construction\n",
    "* Conclusion"
   ]
  },
  {
   "cell_type": "code",
   "execution_count": 1,
   "metadata": {},
   "outputs": [],
   "source": [
    "# Dependencies and Setup\n",
    "%matplotlib inline\n",
    "import numpy as np\n",
    "import pandas as pd\n",
    "import matplotlib.pyplot as plt\n",
    "from sklearn.preprocessing import LabelEncoder\n",
    "import statsmodels.formula.api as smf\n",
    "import statsmodels.api as sm\n",
    "import seaborn as sns\n",
    "import scipy.stats as stats"
   ]
  },
  {
   "cell_type": "markdown",
   "metadata": {},
   "source": [
    "\n",
    "#### * Initial Observation\n",
    "* 35 Numerical Columns\n",
    "* 44 Categorical Columns\n",
    "\n",
    "##### * Our selection of variables to analyze\n",
    "* Based on intial review of the data variables\n",
    "\n",
    "##### * 5 Housing features and their description\n",
    "1. Overall Quality: overall quality of materials/finish of the house (1-10 Rating Scale)\n",
    "\n",
    "2. YearRemodAdd: the year the house was remodeled if no remodelling was performed then it is the same as year the house was built (YYYY)\n",
    "\n",
    "3. TotalBsmtSF: total area of basement area (sqft)\n",
    "\n",
    "4. GrLivArea: total area of livable (above ground) area (sqft)\n",
    "\n",
    "5. LotArea: Lot size (sqft)\n"
   ]
  },
  {
   "cell_type": "code",
   "execution_count": null,
   "metadata": {},
   "outputs": [
    {
     "name": "stdout",
     "output_type": "stream",
     "text": [
      "       overallqual  yearremodadd  totalbsmtsf    grlivarea        lotarea  \\\n",
      "count  1460.000000   1460.000000  1460.000000  1460.000000    1460.000000   \n",
      "mean      6.099315   1984.865753  1057.429452  1515.463699   10516.828082   \n",
      "std       1.382997     20.645407   438.705324   525.480383    9981.264932   \n",
      "min       1.000000   1950.000000     0.000000   334.000000    1300.000000   \n",
      "25%       5.000000   1967.000000   795.750000  1129.500000    7553.500000   \n",
      "50%       6.000000   1994.000000   991.500000  1464.000000    9478.500000   \n",
      "75%       7.000000   2004.000000  1298.250000  1776.750000   11601.500000   \n",
      "max      10.000000   2010.000000  6110.000000  5642.000000  215245.000000   \n",
      "\n",
      "           saleprice  ln_saleprice  \n",
      "count    1460.000000   1460.000000  \n",
      "mean   180921.195890     12.024051  \n",
      "std     79442.502883      0.399452  \n",
      "min     34900.000000     10.460242  \n",
      "25%    129975.000000     11.775097  \n",
      "50%    163000.000000     12.001505  \n",
      "75%    214000.000000     12.273731  \n",
      "max    755000.000000     13.534473  \n"
     ]
    }
   ],
   "source": [
    "# Importing Data\n",
    "data = pd.read_csv(\"train.csv\")\n",
    "\n",
    "# Model Data 5 house features\n",
    "model_data = pd.DataFrame()\n",
    "model_data[\"overallqual\"] = data[\"OverallQual\"]\n",
    "model_data[\"yearremodadd\"] = data[\"YearRemodAdd\"]\n",
    "model_data[\"totalbsmtsf\"] = data[\"TotalBsmtSF\"]\n",
    "model_data[\"grlivarea\"] = data[\"GrLivArea\"]\n",
    "model_data[\"lotarea\"] = data[\"LotArea\"] \n",
    "model_data[\"saleprice\"] = data[\"SalePrice\"]\n",
    "model_data[\"ln_saleprice\"] = np.log(data[\"SalePrice\"])\n",
    "\n",
    "# Initial observation of data\n",
    "print(model_data.describe())"
   ]
  },
  {
   "cell_type": "code",
   "execution_count": null,
   "metadata": {},
   "outputs": [],
   "source": [
    "# Na / NaN searching\n",
    "model_data_na = (model_data.isnull().sum() / len(model_data)) * 100\n",
    "model_data_na = model_data_na.drop(model_data_na[model_data_na == 0].index).sort_values(ascending=False)[:79]\n",
    "model_data_na_percentage = pd.DataFrame({'Missing %' : model_data_na})\n",
    "\n",
    "# output % of data missing / column\n",
    "model_data_na_percentage.head(10)"
   ]
  },
  {
   "cell_type": "markdown",
   "metadata": {},
   "source": [
    "### Data Observation of Sales Prices Distributions\n",
    "----\n",
    "\n",
    "##### * Histograms\n",
    "* Sales Price vs. Frequency \n",
    "* Natural Log of Sales Price vs. Frequency"
   ]
  },
  {
   "cell_type": "code",
   "execution_count": null,
   "metadata": {},
   "outputs": [],
   "source": [
    "# Plot Histogram of Sales Price vs. Frequency\n",
    "target = \"saleprice\"\n",
    "sns.distplot(model_data[target], kde= False)\n",
    "\n",
    "# Histogram labeling/formatting\n",
    "plt.xticks(rotation = 45)\n",
    "plt.title(\"Histogram of Sale Price\")\n",
    "plt.xlabel(\"Sale Price\")\n",
    "plt.ylabel(\"Frequency\")\n",
    "plt.savefig(\"histsp.png\")\n",
    "plt.show()"
   ]
  },
  {
   "cell_type": "code",
   "execution_count": null,
   "metadata": {},
   "outputs": [],
   "source": [
    "# Historgram of Natural Log of SalePrice\n",
    "target = \"ln_saleprice\"\n",
    "sns.distplot(model_data[target], kde= False)\n",
    "\n",
    "# Histogram labeling/formatting\n",
    "plt.xticks(rotation = 45)\n",
    "plt.title(\"Histogram of ln(Sale Price)\")\n",
    "plt.xlabel(\"ln(Sale Price)\")\n",
    "plt.ylabel(\"Frequency\")\n",
    "plt.savefig(\"histln.png\")\n",
    "plt.show()"
   ]
  },
  {
   "cell_type": "markdown",
   "metadata": {},
   "source": [
    "### One-way Plots"
   ]
  },
  {
   "cell_type": "code",
   "execution_count": null,
   "metadata": {},
   "outputs": [],
   "source": [
    "# Oneway plots of field vs. Sales Price\n",
    "target = \"saleprice\"\n",
    "\n",
    "# Isolating housing features relevant to Hypothesis\n",
    "field1 = model_data.columns[0] # OverallQual: overall quality of materials/finish of house (1-10 rating)\n",
    "field2 = model_data.columns[1] # YearRemodAdd: year remodeled\n",
    "field3 = model_data.columns[2] # TotalBsmtSF: total basement area (sqft)\n",
    "field4 = model_data.columns[3] # GrLivArea: livable area (sqft)\n",
    "field5 = model_data.columns[4] # LotArea: lot area (sqft)\n",
    "\n",
    "# Preparing X-Y for one-way plots\n",
    "oneway1 = model_data[[field1,target]]\n",
    "oneway2 = model_data[[field2,target]]\n",
    "oneway3 = model_data[[field3,target]]\n",
    "oneway4 = model_data[[field4,target]]\n",
    "oneway5 = model_data[[field5,target]]\n",
    "\n",
    "# Ploting \n",
    "oneway = [field1,field2,field3,field4,field5]\n",
    "fig, ((ax1, ax2,ax3), (ax4, ax5, ax6)) = plt.subplots(ncols=3, nrows=2, figsize=(17,13),sharey = True)\n",
    "\n",
    "sns.regplot(oneway1[field1], oneway1[target], ax = ax1)\n",
    "sns.regplot(oneway2[field2], oneway2[target], ax = ax2)\n",
    "sns.regplot(oneway3[field3], oneway3[target], ax = ax3)\n",
    "sns.regplot(oneway4[field4], oneway4[target], ax = ax4)\n",
    "sns.regplot(oneway5[field5], oneway5[target], ax = ax5, truncate = True)\n",
    "\n",
    "\n",
    "# Plot axis labels and title\n",
    "ax1.set_ylabel(\"Sale Price\")\n",
    "ax2.set_ylabel(\"Sale Price\")\n",
    "ax3.set_ylabel(\"Sale Price\")\n",
    "ax4.set_ylabel(\"Sale Price\")\n",
    "ax5.set_ylabel(\"Sale Price\")\n",
    "\n",
    "ax1.set_xlabel(\"House Material Quality\")\n",
    "ax2.set_xlabel(\"Year Remodeled\")\n",
    "ax3.set_xlabel(\"Total Basement Area (ft$^2$)\")\n",
    "ax4.set_xlabel(\"Livable Area (ft$^2$)\")\n",
    "ax5.set_xlabel(\"Lot Area (ft$^2$)\")\n",
    "#ax3.set_title(\"Sales Price vs. Five Features\",fontsize = 40)\n",
    "ax6.axis('off')\n",
    "\n",
    "plt.tight_layout()\n",
    "# Saving plots of 5 features vs. sales price\n",
    "plt.savefig(\"5plot.png\")\n",
    "plt.show()"
   ]
  },
  {
   "cell_type": "markdown",
   "metadata": {},
   "source": [
    "### Model and Output Statistics"
   ]
  },
  {
   "cell_type": "code",
   "execution_count": null,
   "metadata": {
    "scrolled": true
   },
   "outputs": [],
   "source": [
    "# Nomalize data\n",
    "norm_data = pd.DataFrame()\n",
    "norm_data = (model_data-model_data.mean()) / (model_data.max() - model_data.min())\n",
    "norm_data[\"saleprice\"] = model_data[\"saleprice\"]\n",
    "norm_data[\"ln_saleprice\"] = model_data[\"ln_saleprice\"]\n",
    "\n",
    "print(norm_data.describe())\n",
    "\n",
    "# Create formula (form1) for use in linear models\n",
    "a = norm_data.columns[0]\n",
    "b = norm_data.columns[1]\n",
    "c = norm_data.columns[2]\n",
    "d = norm_data.columns[3]\n",
    "e = norm_data.columns[4]\n",
    "\n",
    "# Formula 1 construction and string verification of house features involved\n",
    "form1 = \"saleprice ~ \" + a + \" + \" +  b + \" + \" + c + \" + \" + d + \" + \" + e\n",
    "form2 = \"ln_saleprice ~ \" + a + \" + \" +  b + \" + \" + c + \" + \" + d + \" + \" + e\n",
    "form1"
   ]
  },
  {
   "cell_type": "code",
   "execution_count": null,
   "metadata": {},
   "outputs": [],
   "source": [
    "# Ordinary Least Squares Model (Special Case of GLM)\n",
    "# Sale Price Fit\n",
    "model_ols = smf.ols(formula = form1, data = norm_data).fit()\n",
    "print(model_ols.summary())"
   ]
  },
  {
   "cell_type": "code",
   "execution_count": null,
   "metadata": {},
   "outputs": [],
   "source": [
    "# Ordinary Least Squares Model (Special Case of GLM)\n",
    "# Natural Log of Sale Price Fit\n",
    "model_ln = smf.ols(formula = form2, data = norm_data).fit()\n",
    "print(model_ln.summary())"
   ]
  },
  {
   "cell_type": "code",
   "execution_count": null,
   "metadata": {},
   "outputs": [],
   "source": [
    "# Plot of the difference between Actual and Predicted\n",
    "norm_data[\"Pred1\"] = model_ols.predict()\n",
    "norm_data[\"Diff1\"] = norm_data[\"saleprice\"] - norm_data[\"Pred1\"]\n",
    "norm_data[\"Pred2\"] = np.exp(model_ln.predict())\n",
    "norm_data[\"Diff2\"] = norm_data[\"saleprice\"] - norm_data[\"Pred2\"]\n",
    "print(\"Diff1 Minimum: \" + \"{:,.2f}\".format(norm_data[\"Diff1\"].min()))\n",
    "print(\"Diff1 Maximum: \" + \"{:,.2f}\".format(norm_data[\"Diff1\"].max()))\n",
    "print(\"Diff2 Minimum: \" + \"{:,.2f}\".format(norm_data[\"Diff2\"].min()))\n",
    "print(\"Diff2 Maximum: \" + \"{:,.2f}\".format(norm_data[\"Diff2\"].max()))\n",
    "\n",
    "bn = 15 #custom binning variable\n",
    "\n",
    "plt.figure(figsize = (10,5))\n",
    "plt.subplot(1,2,1)\n",
    "sns.distplot(norm_data[\"Diff1\"], kde= False,bins=bn)\n",
    "plt.xticks(rotation = 60)\n",
    "plt.ylabel(\"Frequency\")\n",
    "plt.xlabel(\"Diff 1 - Based on Sale Price\")\n",
    "plt.title(\"Difference of Actual \\n and Predicted Price\")\n",
    "plt.subplot(1,2,2)\n",
    "sns.distplot(norm_data[\"Diff2\"], kde= False,bins=bn)\n",
    "plt.xticks(rotation = 60)\n",
    "plt.title(\"Difference of Actual \\n and Predicted Price\")\n",
    "plt.xlabel(\"Diff 2 - Based on ln(Sale Price)\")\n",
    "plt.yticks([])\n",
    "plt.tight_layout()\n",
    "plt.savefig(\"hist.png\")\n",
    "plt.show()"
   ]
  },
  {
   "cell_type": "code",
   "execution_count": null,
   "metadata": {},
   "outputs": [],
   "source": [
    "# Q-Q Plot\n",
    "min = 0\n",
    "max = 2000000\n",
    "plt.figure(figsize = (10,10))\n",
    "plt.plot([min,max], [min, max])\n",
    "plt.scatter(np.sort(norm_data[\"Pred1\"]),np.sort(norm_data[\"saleprice\"]),label = \"Link = Identity\")\n",
    "plt.scatter(np.sort(norm_data[\"Pred2\"]),np.sort(norm_data[\"saleprice\"]),label = \"Link = Log\")\n",
    "plt.title(\"Q-Q Plot\")\n",
    "plt.xticks(rotation = 60)\n",
    "plt.legend(loc = 'best')\n",
    "plt.savefig(\"qq.png\")\n",
    "plt.show()"
   ]
  },
  {
   "cell_type": "code",
   "execution_count": null,
   "metadata": {},
   "outputs": [],
   "source": [
    "print(stats.ttest_ind(norm_data[\"saleprice\"], norm_data[\"Pred1\"]))\n",
    "print(stats.ttest_ind(norm_data[\"saleprice\"], norm_data[\"Pred2\"]))"
   ]
  },
  {
   "cell_type": "markdown",
   "metadata": {},
   "source": [
    "# Appendix\n",
    "\n",
    "#### * Observations of all 79 house features\n"
   ]
  },
  {
   "cell_type": "code",
   "execution_count": null,
   "metadata": {},
   "outputs": [],
   "source": [
    "# Dealing with categorical data\n",
    "\n",
    "# Import data to convert text fields to categorical fields\n",
    "data1 = pd.read_csv(\"train.csv\")\n",
    "data1[\"ln_SalePrice\"] = np.log(data1[\"SalePrice\"])\n",
    "obj_list = data1.select_dtypes('object').apply(pd.Series.nunique, axis = 0)\n",
    "le = LabelEncoder()\n",
    "\n",
    "# Transforming labels and converting categorical data into dummy/indicator variables \n",
    "for i in obj_list.index:\n",
    "    try:\n",
    "        le.fit(data1[i])\n",
    "        data1[i] = le.transform(data1[i])\n",
    "    except:\n",
    "        data1[i] = pd.get_dummies(data1[i])"
   ]
  },
  {
   "cell_type": "markdown",
   "metadata": {},
   "source": [
    "### One-way Plots"
   ]
  },
  {
   "cell_type": "code",
   "execution_count": null,
   "metadata": {},
   "outputs": [],
   "source": [
    "# Plot oneway graphs field versus target\n",
    "j = 0 #select the starting field for the 9 plots\n",
    "fig = plt.figure(figsize=(12,8))\n",
    "target = \"SalePrice\"\n",
    "\n",
    "# loop plotting\n",
    "for i in range(9):\n",
    "    field1 = data1.columns[j]\n",
    "    oneway = data1[[field1,target]]\n",
    "    plt.subplot(3,3,i+1)\n",
    "    try:\n",
    "        plt.scatter(oneway[field1],oneway[target])\n",
    "    except:\n",
    "        plt.scatter(0,0)\n",
    "    plt.title(\"Comparison to Target\")\n",
    "    plt.xlabel(oneway.columns[0])\n",
    "    plt.ylabel(oneway.columns[1])\n",
    "    j=j+1\n",
    "\n",
    "plt.tight_layout()\n",
    "#plt.savefig(\"Images/Group9.png\")\n",
    "plt.show()"
   ]
  },
  {
   "cell_type": "markdown",
   "metadata": {},
   "source": [
    "### Data Analyses - OLS one variable at a time"
   ]
  },
  {
   "cell_type": "code",
   "execution_count": null,
   "metadata": {},
   "outputs": [],
   "source": [
    "# Generalized Linear Model consistent with Ordinary least squares\n",
    "\n",
    "#Initializing variables\n",
    "dev_comp = pd.DataFrame()\n",
    "fields = []\n",
    "dev1 = []\n",
    "dev2 = []\n",
    "\n",
    "# Calculating Deviance\n",
    "for i in range(80):\n",
    "    \n",
    "    # Deviance of Ln Sales Price\n",
    "    form1 = \"ln_SalePrice ~ \" + data1.columns[i]\n",
    "    fields.append(data1.columns[i])\n",
    "    \n",
    "    try:\n",
    "        model_1 = smf.glm(formula = form1, data = data1,family = sm.families.Gaussian()).fit()\n",
    "        dev1.append(model_1.null_deviance - model_1.deviance)\n",
    "    except:\n",
    "        dev1.append(0)\n",
    "    \n",
    "    # Deviance of Sales Price\n",
    "    form1 = \"SalePrice ~ \" + data.columns[i]\n",
    "    try:\n",
    "        model_1 = smf.glm(formula = form1, data = data1,family = sm.families.Gaussian()).fit()\n",
    "        dev2.append(model_1.null_deviance - model_1.deviance)\n",
    "    except:\n",
    "        dev2.append(0)\n",
    "        \n",
    "    dev_comp.append([data1.columns[i], dev1])\n",
    "\n",
    "# Output deviance measures and rank by decending\n",
    "dev_comp[\"Fields\"] = fields\n",
    "dev_comp[\"Dev1\"] = dev1\n",
    "dev_comp[\"Dev2\"] = dev2\n",
    "dev_comp = dev_comp.sort_values(by=\"Dev1\", ascending=False)\n",
    "print(dev_comp)"
   ]
  },
  {
   "cell_type": "code",
   "execution_count": null,
   "metadata": {},
   "outputs": [],
   "source": [
    "# Show the average Sales Price by selected fields (i)\n",
    "i= 17\n",
    "d1 = data1.groupby(data1.columns[i])\n",
    "d1[\"SalePrice\"].mean()"
   ]
  },
  {
   "cell_type": "markdown",
   "metadata": {},
   "source": [
    "### Modeling: Linear Models"
   ]
  },
  {
   "cell_type": "code",
   "execution_count": null,
   "metadata": {
    "scrolled": false
   },
   "outputs": [],
   "source": [
    "# Create formula (form1) for use in linear models\n",
    "a = data1.columns[4]\n",
    "b = data1.columns[17]\n",
    "c = data1.columns[20]\n",
    "d = data1.columns[38]\n",
    "e = data1.columns[46]\n",
    "\n",
    "# Formula 1 construction and string verification of house features involved\n",
    "form1 = \"SalePrice ~ \" + a + \" + \" +  b + \" + \" + c + \" + \" + d + \" + \" + e\n",
    "form1"
   ]
  },
  {
   "cell_type": "markdown",
   "metadata": {},
   "source": [
    "#### Gaussian Model"
   ]
  },
  {
   "cell_type": "code",
   "execution_count": null,
   "metadata": {
    "scrolled": false
   },
   "outputs": [],
   "source": [
    "# GLM consistent with Ordinary least squares\n",
    "model_test = smf.glm(formula = form1, data = data1,family = sm.families.Gaussian()).fit()\n",
    "print(model_test.null_deviance - model_test.deviance)\n",
    "print(model_test.summary())"
   ]
  },
  {
   "cell_type": "markdown",
   "metadata": {},
   "source": [
    "#### Gaussian Model - Log Link Function\n"
   ]
  },
  {
   "cell_type": "code",
   "execution_count": null,
   "metadata": {},
   "outputs": [],
   "source": [
    "# GLM consistent with Ordinary least squares\n",
    "model_test2 = smf.glm(formula = form1, data = data1, family = sm.families.Gaussian(link = sm.families.links.log)).fit()\n",
    "print(model_test2.null_deviance - model_test2.deviance)\n",
    "print(model_test2.summary())"
   ]
  },
  {
   "cell_type": "markdown",
   "metadata": {},
   "source": [
    "### Review Outliers"
   ]
  },
  {
   "cell_type": "code",
   "execution_count": null,
   "metadata": {},
   "outputs": [],
   "source": [
    "# Outliers based on fitted differences\n",
    "data1[\"Pred1\"] = model_test.predict()\n",
    "data1[\"Diff1\"] = data1[\"SalePrice\"] - data1[\"Pred1\"]\n",
    "data1[\"Pred2\"] = model_test2.predict()\n",
    "data1[\"Diff2\"] = data1[\"SalePrice\"] - data1[\"Pred2\"]\n",
    "\n",
    "data_model = data1[[\"LotArea\", \"OverallQual\", \"YearRemodAdd\", \"TotalBsmtSF\", \"GrLivArea\",\n",
    "                   \"SalePrice\", \"Pred1\", \"Diff1\", \"Pred2\",\"Diff2\"]]\n",
    "outliers = data_model[data_model[\"Diff2\"].abs() > 250000]\n",
    "outliers"
   ]
  },
  {
   "cell_type": "markdown",
   "metadata": {},
   "source": [
    "#### Calcualte t stats"
   ]
  },
  {
   "cell_type": "code",
   "execution_count": null,
   "metadata": {},
   "outputs": [],
   "source": [
    "stats.ttest_ind(data1[\"SalePrice\"],data1[\"Pred1\"], equal_var=False)\n",
    "stats.ttest_ind(data1[\"SalePrice\"],data1[\"Pred2\"], equal_var=False)"
   ]
  },
  {
   "cell_type": "markdown",
   "metadata": {},
   "source": [
    "#### Modeling with Feature Exclusion"
   ]
  },
  {
   "cell_type": "code",
   "execution_count": null,
   "metadata": {},
   "outputs": [],
   "source": [
    "# Create formula (form1) for use in linear models\n",
    "a = data1.columns[4]\n",
    "b = data1.columns[17]\n",
    "c = data1.columns[20]\n",
    "d = data1.columns[38]\n",
    "e = data1.columns[46]"
   ]
  },
  {
   "cell_type": "code",
   "execution_count": null,
   "metadata": {},
   "outputs": [],
   "source": [
    "form1 = \"SalePrice ~ \" + b + \" + \" + c + \" + \" + d + \" + \" + e\n",
    "model_ols_a = smf.glm(formula = form1, data = data1, family = sm.families.Gaussian()).fit()\n",
    "print(\"Difference of Deviance Excluding \" + a + \": \" + str(model_ols_a.deviance - model_test.deviance))\n",
    "\n",
    "model_ols_a = smf.ols(formula = form1, data = data1).fit()\n",
    "print(\"Comparison of R-squared: Model Excluding - \" + a + \": \" + str(model_ols_a.rsquared) + \" to Full Model: \" + str(model_ols.rsquared))"
   ]
  },
  {
   "cell_type": "code",
   "execution_count": null,
   "metadata": {},
   "outputs": [],
   "source": [
    "form1 = \"SalePrice ~ \" + a + \" + \" + c + \" + \" + d + \" + \" + e \n",
    "model_ols_b = smf.glm(formula = form1, data = data1, family = sm.families.Gaussian()).fit()\n",
    "print(\"Difference of Deviance Excluding \" + b + \": \" + str(model_ols_b.deviance - model_test.deviance))\n",
    "\n",
    "model_ols_b = smf.ols(formula = form1, data = data1).fit()\n",
    "print(\"Comparison of R-squared: Model Excluding - \" + b + \": \" + str(model_ols_b.rsquared) + \" to Full Model: \" + str(model_ols.rsquared))\n"
   ]
  },
  {
   "cell_type": "code",
   "execution_count": null,
   "metadata": {},
   "outputs": [],
   "source": [
    "form1 = \"SalePrice ~ \" + a + \" + \" + b + \" + \" + d + \" + \" + e\n",
    "model_ols_c = smf.glm(formula = form1, data = data1, family = sm.families.Gaussian()).fit()\n",
    "print(\"Difference of Deviance Excluding \" + c + \": \" + str(model_ols_c.deviance - model_test.deviance))\n",
    "\n",
    "\n",
    "model_ols_c = smf.ols(formula = form1, data = data1).fit()\n",
    "print(\"Comparison of R-squared: Model Excluding - \" + c + \": \" + str(model_ols_c.rsquared) + \" to Full Model: \" + str(model_ols.rsquared))\n"
   ]
  },
  {
   "cell_type": "code",
   "execution_count": null,
   "metadata": {},
   "outputs": [],
   "source": [
    "form1 = \"SalePrice ~ \" + a + \" + \" + b + \" + \" + c + \" + \" + e\n",
    "model_ols_d = smf.glm(formula = form1, data = data1, family = sm.families.Gaussian()).fit()\n",
    "print(\"Difference of Deviance Excluding \" + d + \": \" + str(model_ols_d.deviance - model_test.deviance))\n",
    "\n",
    "\n",
    "model_ols_d = smf.ols(formula = form1, data = data1).fit()\n",
    "print(\"Comparison of R-squared: Model Excluding - \" + d + \": \" + str(model_ols_d.rsquared) + \" to Full Model: \" + str(model_ols.rsquared))\n"
   ]
  },
  {
   "cell_type": "code",
   "execution_count": null,
   "metadata": {},
   "outputs": [],
   "source": [
    "form1 = \"SalePrice ~ \" + a + \" + \" + b + \" + \" + c + \" + \" + d\n",
    "model_ols_e = smf.glm(formula = form1, data = data1, family = sm.families.Gaussian()).fit()\n",
    "print(\"Difference of Deviance Excluding \" + e + \": \" + str(model_ols_e.deviance - model_test.deviance))\n",
    "\n",
    "\n",
    "model_ols_e = smf.ols(formula = form1, data = data1).fit()\n",
    "print(\"Comparison of R-squared: Model Excluding - \" + e + \": \" + str(model_ols_e.rsquared) + \" to Full Model: \" + str(model_ols.rsquared))\n"
   ]
  },
  {
   "cell_type": "code",
   "execution_count": null,
   "metadata": {},
   "outputs": [],
   "source": []
  }
 ],
 "metadata": {
  "kernelspec": {
   "display_name": "Python 36 (PythonData)",
   "language": "python",
   "name": "pythondata"
  },
  "language_info": {
   "codemirror_mode": {
    "name": "ipython",
    "version": 3
   },
   "file_extension": ".py",
   "mimetype": "text/x-python",
   "name": "python",
   "nbconvert_exporter": "python",
   "pygments_lexer": "ipython3",
   "version": "3.6.8"
  }
 },
 "nbformat": 4,
 "nbformat_minor": 2
}
