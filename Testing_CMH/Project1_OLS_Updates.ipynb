{
 "cells": [
  {
   "cell_type": "code",
   "execution_count": 78,
   "metadata": {},
   "outputs": [],
   "source": [
    "# Dependencies and Setup\n",
    "#%matplotlib inline\n",
    "import numpy as np\n",
    "import pandas as pd\n",
    "import matplotlib.pyplot as plt\n",
    "from sklearn.preprocessing import LabelEncoder\n",
    "from statsmodels.formula.api import glm\n",
    "import statsmodels.api as sm\n",
    "import scipy.stats as stats"
   ]
  },
  {
   "cell_type": "code",
   "execution_count": 79,
   "metadata": {},
   "outputs": [],
   "source": [
    "# Import data to convert text fields to categorical fields\n",
    "data = pd.read_csv(\"train.csv\")\n",
    "data[\"ln_SalePrice\"] = np.log(data[\"SalePrice\"])\n",
    "obj_list = data.select_dtypes('object').apply(pd.Series.nunique, axis = 0)\n",
    "le = LabelEncoder()\n",
    "\n",
    "for i in obj_list.index:\n",
    "    try:\n",
    "        le.fit(data[i])\n",
    "        data[i] = le.transform(data[i])\n",
    "    except:\n",
    "        data[i] = pd.get_dummies(data[i])"
   ]
  },
  {
   "cell_type": "code",
   "execution_count": 80,
   "metadata": {},
   "outputs": [
    {
     "data": {
      "image/png": "[encoded data removed]",
      "text/plain": [
       "<Figure size 432x288 with 1 Axes>"
      ]
     },
     "metadata": {
      "needs_background": "light"
     },
     "output_type": "display_data"
    }
   ],
   "source": [
    "# Show the average target by selected fields (i)\n",
    "i= 12\n",
    "d1 = data.groupby(data.columns[i])\n",
    "plt.plot(d1[\"SalePrice\"].mean())\n",
    "plt.title(data.columns[i])\n",
    "plt.show()"
   ]
  },
  {
   "cell_type": "code",
   "execution_count": 81,
   "metadata": {
    "scrolled": false
   },
   "outputs": [
    {
     "data": {
      "text/plain": [
       "'ln_SalePrice ~ LotArea + OverallQual + YearRemodAdd + TotalBsmtSF + GrLivArea + YearBuilt'"
      ]
     },
     "execution_count": 81,
     "metadata": {},
     "output_type": "execute_result"
    }
   ],
   "source": [
    "# Create formula (form1) for use in linear models\n",
    "a = data.columns[4]\n",
    "b = data.columns[17]\n",
    "c = data.columns[20]\n",
    "d = data.columns[38]\n",
    "e = data.columns[46]\n",
    "f = data.columns[19]\n",
    "g = data.columns[19]\n",
    "\n",
    "form1 = \"SalePrice ~ \" + a + \" + \" +  b + \" + \" + c + \" + \" + d + \" + \" + e + \" + \" + f \n",
    "form2 = \"ln_SalePrice ~ \" + a + \" + \" +  b + \" + \" + c + \" + \" + d + \" + \" + e + \" + \" + f \n",
    "form2"
   ]
  },
  {
   "cell_type": "code",
   "execution_count": 82,
   "metadata": {
    "scrolled": true
   },
   "outputs": [
    {
     "name": "stdout",
     "output_type": "stream",
     "text": [
      "                 Generalized Linear Model Regression Results                  \n",
      "==============================================================================\n",
      "Dep. Variable:              SalePrice   No. Observations:                 1460\n",
      "Model:                            GLM   Df Residuals:                     1453\n",
      "Model Family:                Gaussian   Df Model:                            6\n",
      "Link Function:               identity   Scale:                      1.4693e+09\n",
      "Method:                          IRLS   Log-Likelihood:                -17477.\n",
      "Date:                Wed, 24 Jul 2019   Deviance:                   2.1349e+12\n",
      "Time:                        14:31:09   Pearson chi2:                 2.13e+12\n",
      "No. Iterations:                     3   Covariance Type:             nonrobust\n",
      "================================================================================\n",
      "                   coef    std err          z      P>|z|      [0.025      0.975]\n",
      "--------------------------------------------------------------------------------\n",
      "Intercept     -1.33e+06   1.19e+05    -11.170      0.000   -1.56e+06    -1.1e+06\n",
      "LotArea          0.7149      0.107      6.694      0.000       0.506       0.924\n",
      "OverallQual   2.164e+04   1175.174     18.415      0.000    1.93e+04    2.39e+04\n",
      "YearRemodAdd   295.4421     63.931      4.621      0.000     170.139     420.745\n",
      "TotalBsmtSF     28.7788      2.879      9.996      0.000      23.136      34.422\n",
      "GrLivArea       51.5962      2.549     20.240      0.000      46.600      56.593\n",
      "YearBuilt      342.8744     46.120      7.434      0.000     252.480     433.269\n",
      "================================================================================\n",
      "                 Generalized Linear Model Regression Results                  \n",
      "==============================================================================\n",
      "Dep. Variable:              SalePrice   No. Observations:                 1460\n",
      "Model:                            GLM   Df Residuals:                     1453\n",
      "Model Family:                Gaussian   Df Model:                            6\n",
      "Link Function:                    log   Scale:                      1.5562e+09\n",
      "Method:                          IRLS   Log-Likelihood:                -17519.\n",
      "Date:                Wed, 24 Jul 2019   Deviance:                   2.2612e+12\n",
      "Time:                        14:31:09   Pearson chi2:                 2.26e+12\n",
      "No. Iterations:                    18   Covariance Type:             nonrobust\n",
      "================================================================================\n",
      "                   coef    std err          z      P>|z|      [0.025      0.975]\n",
      "--------------------------------------------------------------------------------\n",
      "Intercept        3.2211      0.756      4.263      0.000       1.740       4.702\n",
      "LotArea       2.582e-06    4.1e-07      6.304      0.000    1.78e-06    3.39e-06\n",
      "OverallQual      0.1663      0.006     27.938      0.000       0.155       0.178\n",
      "YearRemodAdd     0.0019      0.000      4.312      0.000       0.001       0.003\n",
      "TotalBsmtSF  -4.189e-05   1.16e-05     -3.616      0.000   -6.46e-05   -1.92e-05\n",
      "GrLivArea        0.0002    1.1e-05     15.919      0.000       0.000       0.000\n",
      "YearBuilt        0.0019      0.000      7.261      0.000       0.001       0.002\n",
      "================================================================================\n"
     ]
    }
   ],
   "source": [
    "# GLM consistent with Ordinary least squares\n",
    "model_ols = glm(formula = form1, data = data, family = sm.families.Gaussian()).fit()\n",
    "print(model_ols.summary())\n",
    "model_ols_ln = glm(formula = form1, data = data, family = sm.families.Gaussian(sm.families.links.log)).fit()\n",
    "print(model_ols_ln.summary())"
   ]
  },
  {
   "cell_type": "code",
   "execution_count": 83,
   "metadata": {},
   "outputs": [
    {
     "name": "stdout",
     "output_type": "stream",
     "text": [
      "Diff1 min: -521,237.00\n",
      "Diff1 max: 286,600.23\n",
      "Diff2 min: -541,104.72\n",
      "Diff2 max: 266,744.56\n"
     ]
    },
    {
     "data": {
      "image/png": "[encoded data removed]",
      "text/plain": [
       "<Figure size 432x288 with 2 Axes>"
      ]
     },
     "metadata": {
      "needs_background": "light"
     },
     "output_type": "display_data"
    }
   ],
   "source": [
    "data[\"Pred1\"] = model_ols.predict()\n",
    "data[\"Diff1\"] = data[\"SalePrice\"] - data[\"Pred1\"]\n",
    "data[\"Pred2\"] = model_ols_ln.predict()\n",
    "data[\"Diff2\"] = data[\"SalePrice\"] - data[\"Pred2\"]\n",
    "print(\"Diff1 min: \" + \"{:,.2f}\".format(data[\"Diff1\"].min()))\n",
    "print(\"Diff1 max: \" + \"{:,.2f}\".format(data[\"Diff1\"].max()))\n",
    "print(\"Diff2 min: \" + \"{:,.2f}\".format(data[\"Diff2\"].min()))\n",
    "print(\"Diff2 max: \" + \"{:,.2f}\".format(data[\"Diff2\"].max()))\n",
    "\n",
    "plt.subplot(1,2,1)\n",
    "plt.hist(data[\"Diff1\"])\n",
    "plt.xticks(rotation = 60)\n",
    "plt.subplot(1,2,2)\n",
    "plt.hist(data[\"Diff2\"])\n",
    "plt.xticks(rotation = 60)\n",
    "plt.show()"
   ]
  },
  {
   "cell_type": "code",
   "execution_count": 101,
   "metadata": {},
   "outputs": [
    {
     "data": {
      "image/png": "[encoded data removed]",
      "text/plain": [
       "<Figure size 432x288 with 1 Axes>"
      ]
     },
     "metadata": {
      "needs_background": "light"
     },
     "output_type": "display_data"
    }
   ],
   "source": [
    "min = 0\n",
    "max = 800000\n",
    "plt.scatter(np.sort(data[\"Pred1\"]),np.sort(data[\"SalePrice\"]),color=\"blue\",label=\"Link Func: Identity\")\n",
    "plt.scatter(np.sort(data[\"Pred2\"]),np.sort(data[\"SalePrice\"]),color=\"red\",label=\"Link Func: Log\")\n",
    "plt.legend()\n",
    "plt.plot([0,max],[0,max])\n",
    "\n",
    "plt.axis(\"equal\")\n",
    "plt.title(\"Q-Q Plot\")\n",
    "plt.xticks(rotation = 60)\n",
    "plt.xlim(min,max)\n",
    "plt.ylim(min,max)\n",
    "\n",
    "plt.show()\n"
   ]
  },
  {
   "cell_type": "code",
   "execution_count": 85,
   "metadata": {},
   "outputs": [
    {
     "data": {
      "text/plain": [
       "Ttest_indResult(statistic=2.526539718829166e-13, pvalue=0.9999999999997984)"
      ]
     },
     "execution_count": 85,
     "metadata": {},
     "output_type": "execute_result"
    }
   ],
   "source": [
    "\n",
    "stats.ttest_ind(data[\"SalePrice\"],data[\"Pred1\"], equal_var=False)"
   ]
  },
  {
   "cell_type": "code",
   "execution_count": 86,
   "metadata": {},
   "outputs": [
    {
     "data": {
      "text/plain": [
       "Ttest_indResult(statistic=-0.1404428149312015, pvalue=0.8883200563588632)"
      ]
     },
     "execution_count": 86,
     "metadata": {},
     "output_type": "execute_result"
    }
   ],
   "source": [
    "stats.ttest_ind(data[\"SalePrice\"],data[\"Pred2\"], equal_var=False)"
   ]
  },
  {
   "cell_type": "code",
   "execution_count": 87,
   "metadata": {},
   "outputs": [
    {
     "name": "stdout",
     "output_type": "stream",
     "text": [
      "Difference of Deviance Excluding LotArea: 65838140353.77881\n"
     ]
    }
   ],
   "source": [
    "form1 = \"SalePrice ~ \" + b + \" + \" + c + \" + \" + d + \" + \" + e + \" + \" + f\n",
    "model_ols_a = glm(formula = form1, data = data, family = sm.families.Gaussian()).fit()\n",
    "print(\"Difference of Deviance Excluding \" + a + \": \" + str(model_ols_a.deviance - model_ols.deviance))"
   ]
  },
  {
   "cell_type": "code",
   "execution_count": 88,
   "metadata": {},
   "outputs": [
    {
     "name": "stdout",
     "output_type": "stream",
     "text": [
      "Difference of Deviance Excluding OverallQual: 498244561655.9404\n"
     ]
    }
   ],
   "source": [
    "form1 = \"SalePrice ~ \" + a + \" + \" + c + \" + \" + d + \" + \" + e + \" + \" + f\n",
    "model_ols_b = glm(formula = form1, data = data, family = sm.families.Gaussian()).fit()\n",
    "print(\"Difference of Deviance Excluding \" + b + \": \" + str(model_ols_b.deviance - model_ols.deviance))"
   ]
  },
  {
   "cell_type": "code",
   "execution_count": 89,
   "metadata": {},
   "outputs": [
    {
     "name": "stdout",
     "output_type": "stream",
     "text": [
      "Difference of Deviance Excluding YearRemodAdd: 31378699486.691162\n"
     ]
    }
   ],
   "source": [
    "form1 = \"SalePrice ~ \" + a + \" + \" + b + \" + \" + d + \" + \" + e + \" + \" + f\n",
    "model_ols_c = glm(formula = form1, data = data, family = sm.families.Gaussian()).fit()\n",
    "print(\"Difference of Deviance Excluding \" + c + \": \" + str(model_ols_c.deviance - model_ols.deviance))"
   ]
  },
  {
   "cell_type": "code",
   "execution_count": 90,
   "metadata": {},
   "outputs": [
    {
     "name": "stdout",
     "output_type": "stream",
     "text": [
      "Difference of Deviance Excluding TotalBsmtSF: 146813131919.83838\n"
     ]
    }
   ],
   "source": [
    "form1 = \"SalePrice ~ \" + a + \" + \" + b + \" + \" + c + \" + \" + e + \" + \" + f\n",
    "model_ols_d = glm(formula = form1, data = data, family = sm.families.Gaussian()).fit()\n",
    "print(\"Difference of Deviance Excluding \" + d + \": \" + str(model_ols_d.deviance - model_ols.deviance))"
   ]
  },
  {
   "cell_type": "code",
   "execution_count": 91,
   "metadata": {},
   "outputs": [
    {
     "name": "stdout",
     "output_type": "stream",
     "text": [
      "Difference of Deviance Excluding GrLivArea: 601908417787.2183\n"
     ]
    }
   ],
   "source": [
    "form1 = \"SalePrice ~ \" + a + \" + \" + b + \" + \" + c + \" + \" + d + \" + \" + f\n",
    "model_ols_e = glm(formula = form1, data = data, family = sm.families.Gaussian()).fit()\n",
    "print(\"Difference of Deviance Excluding \" + e + \": \" + str(model_ols_e.deviance - model_ols.deviance))"
   ]
  },
  {
   "cell_type": "code",
   "execution_count": 92,
   "metadata": {},
   "outputs": [
    {
     "name": "stdout",
     "output_type": "stream",
     "text": [
      "Difference of Deviance Excluding YearBuilt: 81208145415.55127\n"
     ]
    }
   ],
   "source": [
    "form1 = \"SalePrice ~ \" + a + \" + \" + b + \" + \" + c + \" + \" + d + \" + \" + e\n",
    "model_ols_f = glm(formula = form1, data = data, family = sm.families.Gaussian()).fit()\n",
    "print(\"Difference of Deviance Excluding \" + f + \": \" + str(model_ols_f.deviance - model_ols.deviance))"
   ]
  },
  {
   "cell_type": "code",
   "execution_count": null,
   "metadata": {},
   "outputs": [],
   "source": []
  }
 ],
 "metadata": {
  "kernelspec": {
   "display_name": "Python 36 (PythonData)",
   "language": "python",
   "name": "pythondata"
  },
  "language_info": {
   "codemirror_mode": {
    "name": "ipython",
    "version": 3
   },
   "file_extension": ".py",
   "mimetype": "text/x-python",
   "name": "python",
   "nbconvert_exporter": "python",
   "pygments_lexer": "ipython3",
   "version": "3.6.8"
  }
 },
 "nbformat": 4,
 "nbformat_minor": 2
}
