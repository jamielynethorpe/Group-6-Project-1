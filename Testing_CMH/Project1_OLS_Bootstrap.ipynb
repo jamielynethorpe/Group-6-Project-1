{
 "cells": [
  {
   "cell_type": "code",
   "execution_count": 1,
   "metadata": {},
   "outputs": [],
   "source": [
    "# Dependencies and Setup\n",
    "#%matplotlib inline\n",
    "import numpy as np\n",
    "import pandas as pd\n",
    "import matplotlib.pyplot as plt\n",
    "from sklearn.preprocessing import LabelEncoder\n",
    "import statsmodels.formula.api as smf\n",
    "import statsmodels.api as sm\n",
    "import scipy.stats as stats"
   ]
  },
  {
   "cell_type": "code",
   "execution_count": 2,
   "metadata": {
    "scrolled": true
   },
   "outputs": [
    {
     "ename": "NameError",
     "evalue": "name 'formodel' is not defined",
     "output_type": "error",
     "traceback": [
      "\u001b[1;31m---------------------------------------------------------------------------\u001b[0m",
      "\u001b[1;31mNameError\u001b[0m                                 Traceback (most recent call last)",
      "\u001b[1;32m<ipython-input-2-1bcd0d7f810e>\u001b[0m in \u001b[0;36m<module>\u001b[1;34m\u001b[0m\n\u001b[0;32m      2\u001b[0m \u001b[0mdata\u001b[0m \u001b[1;33m=\u001b[0m \u001b[0mpd\u001b[0m\u001b[1;33m.\u001b[0m\u001b[0mread_csv\u001b[0m\u001b[1;33m(\u001b[0m\u001b[1;34m\"train.csv\"\u001b[0m\u001b[1;33m)\u001b[0m\u001b[1;33m\u001b[0m\u001b[1;33m\u001b[0m\u001b[0m\n\u001b[0;32m      3\u001b[0m \u001b[0mgetfields\u001b[0m \u001b[1;33m=\u001b[0m \u001b[0mdata\u001b[0m\u001b[1;33m[\u001b[0m\u001b[1;33m[\u001b[0m\u001b[1;34m\"LotArea\"\u001b[0m\u001b[1;33m,\u001b[0m \u001b[1;34m\"OverallQual\"\u001b[0m\u001b[1;33m,\u001b[0m \u001b[1;34m\"YearRemodAdd\"\u001b[0m\u001b[1;33m,\u001b[0m \u001b[1;34m\"TotalBsmtSF\"\u001b[0m\u001b[1;33m,\u001b[0m \u001b[1;34m\"GrLivArea\"\u001b[0m\u001b[1;33m,\u001b[0m \u001b[1;34m\"SalePrice\"\u001b[0m \u001b[1;33m]\u001b[0m\u001b[1;33m]\u001b[0m\u001b[1;33m\u001b[0m\u001b[1;33m\u001b[0m\u001b[0m\n\u001b[1;32m----> 4\u001b[1;33m \u001b[0mformodel\u001b[0m\u001b[1;33m[\u001b[0m\u001b[1;34m\"LotArea\"\u001b[0m\u001b[1;33m]\u001b[0m \u001b[1;33m=\u001b[0m \u001b[0mgetfields\u001b[0m\u001b[1;33m[\u001b[0m\u001b[1;34m\"LotArea\"\u001b[0m\u001b[1;33m]\u001b[0m \u001b[1;33m/\u001b[0m\u001b[1;36m10000\u001b[0m\u001b[1;33m\u001b[0m\u001b[1;33m\u001b[0m\u001b[0m\n\u001b[0m\u001b[0;32m      5\u001b[0m \u001b[0mformodel\u001b[0m\u001b[1;33m[\u001b[0m\u001b[1;34m\"OverallQual\"\u001b[0m\u001b[1;33m]\u001b[0m \u001b[1;33m=\u001b[0m \u001b[0mgetfields\u001b[0m\u001b[1;33m[\u001b[0m\u001b[1;34m\"OverallQual\"\u001b[0m\u001b[1;33m]\u001b[0m\u001b[1;33m\u001b[0m\u001b[1;33m\u001b[0m\u001b[0m\n\u001b[0;32m      6\u001b[0m \u001b[0mformodel\u001b[0m\u001b[1;33m[\u001b[0m\u001b[1;34m\"YearRemodAdd\"\u001b[0m\u001b[1;33m]\u001b[0m \u001b[1;33m=\u001b[0m \u001b[0mgetfields\u001b[0m\u001b[1;33m[\u001b[0m\u001b[1;34m\"YearRemodAdd\"\u001b[0m\u001b[1;33m]\u001b[0m \u001b[1;33m/\u001b[0m\u001b[1;36m100\u001b[0m\u001b[1;33m\u001b[0m\u001b[1;33m\u001b[0m\u001b[0m\n",
      "\u001b[1;31mNameError\u001b[0m: name 'formodel' is not defined"
     ]
    }
   ],
   "source": [
    "# Import data to convert text fields to categorical fields\n",
    "data = pd.read_csv(\"train.csv\")\n",
    "getfields = data[[\"LotArea\", \"OverallQual\", \"YearRemodAdd\", \"TotalBsmtSF\", \"GrLivArea\", \"SalePrice\" ]]\n",
    "formodel[\"LotArea\"] = getfields[\"LotArea\"] /10000\n",
    "formodel[\"OverallQual\"] = getfields[\"OverallQual\"]\n",
    "formodel[\"YearRemodAdd\"] = getfields[\"YearRemodAdd\"] /100\n",
    "formodel[\"TotalBsmtSF\"] = getfields[\"TotalBsmtSF\"] /1000\n",
    "formodel[\"GrLivArea\"] = getfields[\"GrLivArea\"] /1000\n",
    "formodel[\"SalePrice\"] = getfields[\"SalePrice\"] /10000\n",
    "formodel[\"ln_SalePrice\"] = np.log(getfields[\"SalePrice\"] /10000)\n",
    "formodel.describe()"
   ]
  },
  {
   "cell_type": "code",
   "execution_count": null,
   "metadata": {
    "scrolled": false
   },
   "outputs": [],
   "source": [
    "# Create formula (form1) for use in linear models\n",
    "a = formodel.columns[0]\n",
    "b = formodel.columns[1]\n",
    "c = formodel.columns[2]\n",
    "d = formodel.columns[3]\n",
    "e = formodel.columns[4]\n",
    "\n",
    "form1 = \"SalePrice ~ \" + a + \" + \" +  b + \" + \" + c + \" + \" + d + \" + \" + e\n",
    "form2 = \"ln_SalePrice ~ \" + a + \" + \" +  b + \" + \" + c + \" + \" + d + \" + \" + e\n",
    "form2"
   ]
  },
  {
   "cell_type": "code",
   "execution_count": null,
   "metadata": {
    "scrolled": true
   },
   "outputs": [],
   "source": [
    "# GLM consistent with Ordinary least squares --- sm.families.links.log\n",
    "model_ols = smf.glm(formula = form1, data = formodel, family = sm.families.Gaussian(sm.families.links.log)).fit()\n",
    "print(model_ols.summary())\n",
    "ols_test = smf.ols(formula = form2, data = formodel).fit()\n",
    "print(ols_test.summary())"
   ]
  },
  {
   "cell_type": "code",
   "execution_count": null,
   "metadata": {
    "scrolled": true
   },
   "outputs": [],
   "source": [
    "formodel[\"Pred1\"] = model_ols.predict()\n",
    "formodel[\"Pred2\"] = np.exp(ols_test.predict())\n",
    "min = 0\n",
    "max = 80\n",
    "plt.scatter(np.sort(formodel[\"Pred1\"]),np.sort(formodel[\"SalePrice\"]),color=\"blue\",label=\"GLM - Log\")\n",
    "plt.scatter(np.sort(formodel[\"Pred2\"]),np.sort(formodel[\"SalePrice\"]),color=\"red\",label=\"OLS - Log\")\n",
    "plt.legend()\n",
    "plt.plot([0,max],[0,max])\n",
    "\n",
    "plt.axis(\"equal\")\n",
    "plt.title(\"Q-Q Plot\")\n",
    "plt.xticks(rotation = 60)\n",
    "plt.xlim(min,max)\n",
    "plt.ylim(min,max)\n",
    "\n",
    "plt.show()"
   ]
  },
  {
   "cell_type": "code",
   "execution_count": null,
   "metadata": {},
   "outputs": [],
   "source": [
    "A = np.identity(len(model_ols.params))\n",
    "A = A[1:,:]\n",
    "print(model_ols.f_test(A))"
   ]
  },
  {
   "cell_type": "code",
   "execution_count": null,
   "metadata": {},
   "outputs": [],
   "source": [
    "num_samples = 1000\n",
    "glm_params = np.zeros((num_samples,6),dtype=float)\n",
    "sample_rows = len(formodel[\"SalePrice\"])\n",
    "\n",
    "for i in range(num_samples):\n",
    "    seed = 12345 + i\n",
    "    sampled = formodel.sample(n=sample_rows,replace = True, random_state = seed)\n",
    "    model_ols = smf.glm(formula = form1, data = sampled, family = sm.families.Gaussian(sm.families.links.log)).fit()\n",
    "    for j in range(6):\n",
    "        glm_params[i,j] = model_ols.params[j]\n",
    "df_boot = pd.DataFrame(glm_params)\n",
    "df_boot.columns = [\"Intercept\", a, b, c, d, e]\n",
    "#df_boot.head()"
   ]
  },
  {
   "cell_type": "code",
   "execution_count": 71,
   "metadata": {
    "scrolled": true
   },
   "outputs": [
    {
     "data": {
      "text/html": [
       "<div>\n",
       "<style scoped>\n",
       "    .dataframe tbody tr th:only-of-type {\n",
       "        vertical-align: middle;\n",
       "    }\n",
       "\n",
       "    .dataframe tbody tr th {\n",
       "        vertical-align: top;\n",
       "    }\n",
       "\n",
       "    .dataframe thead th {\n",
       "        text-align: right;\n",
       "    }\n",
       "</style>\n",
       "<table border=\"1\" class=\"dataframe\">\n",
       "  <thead>\n",
       "    <tr style=\"text-align: right;\">\n",
       "      <th></th>\n",
       "      <th>Intercept</th>\n",
       "      <th>LotArea</th>\n",
       "      <th>OverallQual</th>\n",
       "      <th>YearRemodAdd</th>\n",
       "      <th>TotalBsmtSF</th>\n",
       "      <th>GrLivArea</th>\n",
       "    </tr>\n",
       "  </thead>\n",
       "  <tbody>\n",
       "    <tr>\n",
       "      <th>count</th>\n",
       "      <td>1000.000000</td>\n",
       "      <td>1000.000000</td>\n",
       "      <td>1000.000000</td>\n",
       "      <td>1000.000000</td>\n",
       "      <td>1000.000000</td>\n",
       "      <td>1000.000000</td>\n",
       "    </tr>\n",
       "    <tr>\n",
       "      <th>mean</th>\n",
       "      <td>-5.480133</td>\n",
       "      <td>0.021832</td>\n",
       "      <td>0.166301</td>\n",
       "      <td>0.352578</td>\n",
       "      <td>0.027714</td>\n",
       "      <td>0.165258</td>\n",
       "    </tr>\n",
       "    <tr>\n",
       "      <th>std</th>\n",
       "      <td>0.877250</td>\n",
       "      <td>0.015482</td>\n",
       "      <td>0.025833</td>\n",
       "      <td>0.044798</td>\n",
       "      <td>0.098532</td>\n",
       "      <td>0.043795</td>\n",
       "    </tr>\n",
       "    <tr>\n",
       "      <th>min</th>\n",
       "      <td>-8.159866</td>\n",
       "      <td>-0.114350</td>\n",
       "      <td>0.098011</td>\n",
       "      <td>0.223132</td>\n",
       "      <td>-0.133193</td>\n",
       "      <td>0.052502</td>\n",
       "    </tr>\n",
       "    <tr>\n",
       "      <th>25%</th>\n",
       "      <td>-6.026692</td>\n",
       "      <td>0.020528</td>\n",
       "      <td>0.143574</td>\n",
       "      <td>0.322800</td>\n",
       "      <td>-0.045927</td>\n",
       "      <td>0.135855</td>\n",
       "    </tr>\n",
       "    <tr>\n",
       "      <th>50%</th>\n",
       "      <td>-5.451207</td>\n",
       "      <td>0.024737</td>\n",
       "      <td>0.176199</td>\n",
       "      <td>0.351601</td>\n",
       "      <td>-0.016353</td>\n",
       "      <td>0.160989</td>\n",
       "    </tr>\n",
       "    <tr>\n",
       "      <th>75%</th>\n",
       "      <td>-4.891966</td>\n",
       "      <td>0.028332</td>\n",
       "      <td>0.184898</td>\n",
       "      <td>0.381439</td>\n",
       "      <td>0.123918</td>\n",
       "      <td>0.187910</td>\n",
       "    </tr>\n",
       "    <tr>\n",
       "      <th>max</th>\n",
       "      <td>-3.054660</td>\n",
       "      <td>0.082543</td>\n",
       "      <td>0.210909</td>\n",
       "      <td>0.487629</td>\n",
       "      <td>0.246469</td>\n",
       "      <td>0.282566</td>\n",
       "    </tr>\n",
       "  </tbody>\n",
       "</table>\n",
       "</div>"
      ],
      "text/plain": [
       "         Intercept      LotArea  OverallQual  YearRemodAdd  TotalBsmtSF  \\\n",
       "count  1000.000000  1000.000000  1000.000000   1000.000000  1000.000000   \n",
       "mean     -5.480133     0.021832     0.166301      0.352578     0.027714   \n",
       "std       0.877250     0.015482     0.025833      0.044798     0.098532   \n",
       "min      -8.159866    -0.114350     0.098011      0.223132    -0.133193   \n",
       "25%      -6.026692     0.020528     0.143574      0.322800    -0.045927   \n",
       "50%      -5.451207     0.024737     0.176199      0.351601    -0.016353   \n",
       "75%      -4.891966     0.028332     0.184898      0.381439     0.123918   \n",
       "max      -3.054660     0.082543     0.210909      0.487629     0.246469   \n",
       "\n",
       "         GrLivArea  \n",
       "count  1000.000000  \n",
       "mean      0.165258  \n",
       "std       0.043795  \n",
       "min       0.052502  \n",
       "25%       0.135855  \n",
       "50%       0.160989  \n",
       "75%       0.187910  \n",
       "max       0.282566  "
      ]
     },
     "execution_count": 71,
     "metadata": {},
     "output_type": "execute_result"
    }
   ],
   "source": [
    "df_boot.describe()"
   ]
  },
  {
   "cell_type": "code",
   "execution_count": null,
   "metadata": {},
   "outputs": [],
   "source": []
  }
 ],
 "metadata": {
  "kernelspec": {
   "display_name": "Python 36 (PythonData)",
   "language": "python",
   "name": "pythondata"
  },
  "language_info": {
   "codemirror_mode": {
    "name": "ipython",
    "version": 3
   },
   "file_extension": ".py",
   "mimetype": "text/x-python",
   "name": "python",
   "nbconvert_exporter": "python",
   "pygments_lexer": "ipython3",
   "version": "3.7.3"
  }
 },
 "nbformat": 4,
 "nbformat_minor": 2
}
