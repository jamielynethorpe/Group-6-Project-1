{
 "cells": [
  {
   "cell_type": "code",
   "execution_count": 9,
   "metadata": {},
   "outputs": [],
   "source": [
    "# Dependencies and Setup\n",
    "#%matplotlib inline\n",
    "import numpy as np\n",
    "import pandas as pd\n",
    "import matplotlib.pyplot as plt\n",
    "from sklearn.preprocessing import LabelEncoder\n",
    "from statsmodels.formula.api import glm\n",
    "import statsmodels.api as sm\n",
    "import scipy.stats as stats"
   ]
  },
  {
   "cell_type": "code",
   "execution_count": 3,
   "metadata": {},
   "outputs": [],
   "source": [
    "# Import data to convert text fields to categorical fields\n",
    "data = pd.read_csv(\"train.csv\")\n",
    "data[\"ln_SalePrice\"] = np.log(data[\"SalePrice\"])\n",
    "obj_list = data.select_dtypes('object').apply(pd.Series.nunique, axis = 0)\n",
    "le = LabelEncoder()\n",
    "\n",
    "for i in obj_list.index:\n",
    "    try:\n",
    "        le.fit(data[i])\n",
    "        data[i] = le.transform(data[i])\n",
    "    except:\n",
    "        data[i] = pd.get_dummies(data[i])"
   ]
  },
  {
   "cell_type": "code",
   "execution_count": 4,
   "metadata": {},
   "outputs": [
    {
     "data": {
      "image/png": "[encoded data removed]",
      "text/plain": [
       "<Figure size 432x288 with 1 Axes>"
      ]
     },
     "metadata": {
      "needs_background": "light"
     },
     "output_type": "display_data"
    }
   ],
   "source": [
    "# Show the average target by selected fields (i)\n",
    "i= 12\n",
    "d1 = data.groupby(data.columns[i])\n",
    "plt.plot(d1[\"SalePrice\"].mean())\n",
    "plt.title(data.columns[i])\n",
    "plt.show()"
   ]
  },
  {
   "cell_type": "code",
   "execution_count": 26,
   "metadata": {
    "scrolled": false
   },
   "outputs": [
    {
     "data": {
      "text/plain": [
       "'ln_SalePrice ~ LotArea + OverallQual + YearRemodAdd + TotalBsmtSF + GrLivArea + OverallCond'"
      ]
     },
     "execution_count": 26,
     "metadata": {},
     "output_type": "execute_result"
    }
   ],
   "source": [
    "# Create formula (form1) for use in linear models\n",
    "a = data.columns[4]\n",
    "b = data.columns[17]\n",
    "c = data.columns[20]\n",
    "d = data.columns[38]\n",
    "e = data.columns[46]\n",
    "f = data.columns[18]\n",
    "g = data.columns[19]\n",
    "\n",
    "form1 = \"SalePrice ~ \" + a + \" + \" +  b + \" + \" + c + \" + \" + d + \" + \" + e + \" + \" + f \n",
    "form2 = \"ln_SalePrice ~ \" + a + \" + \" +  b + \" + \" + c + \" + \" + d + \" + \" + e + \" + \" + f \n",
    "form2"
   ]
  },
  {
   "cell_type": "code",
   "execution_count": 30,
   "metadata": {
    "scrolled": true
   },
   "outputs": [
    {
     "name": "stdout",
     "output_type": "stream",
     "text": [
      "                 Generalized Linear Model Regression Results                  \n",
      "==============================================================================\n",
      "Dep. Variable:              SalePrice   No. Observations:                 1460\n",
      "Model:                            GLM   Df Residuals:                     1453\n",
      "Model Family:                Gaussian   Df Model:                            6\n",
      "Link Function:               identity   Scale:                      1.5247e+09\n",
      "Method:                          IRLS   Log-Likelihood:                -17504.\n",
      "Date:                Tue, 23 Jul 2019   Deviance:                   2.2154e+12\n",
      "Time:                        21:22:35   Pearson chi2:                 2.22e+12\n",
      "No. Iterations:                     3   Covariance Type:             nonrobust\n",
      "================================================================================\n",
      "                   coef    std err          z      P>|z|      [0.025      0.975]\n",
      "--------------------------------------------------------------------------------\n",
      "Intercept    -1.045e+06   1.16e+05     -9.026      0.000   -1.27e+06   -8.18e+05\n",
      "LotArea          0.6913      0.109      6.349      0.000       0.478       0.905\n",
      "OverallQual   2.471e+04   1125.696     21.949      0.000    2.25e+04    2.69e+04\n",
      "YearRemodAdd   482.8114     60.177      8.023      0.000     364.866     600.757\n",
      "TotalBsmtSF     33.0578      2.915     11.340      0.000      27.344      38.771\n",
      "GrLivArea       47.2161      2.526     18.690      0.000      42.265      52.168\n",
      "OverallCond    645.8617    944.267      0.684      0.494   -1204.867    2496.590\n",
      "================================================================================\n",
      "                 Generalized Linear Model Regression Results                  \n",
      "==============================================================================\n",
      "Dep. Variable:           ln_SalePrice   No. Observations:                 1460\n",
      "Model:                            GLM   Df Residuals:                     1453\n",
      "Model Family:                Gaussian   Df Model:                            6\n",
      "Link Function:               identity   Scale:                        0.032626\n",
      "Method:                          IRLS   Log-Likelihood:                 430.38\n",
      "Date:                Tue, 23 Jul 2019   Deviance:                       47.406\n",
      "Time:                        21:22:35   Pearson chi2:                     47.4\n",
      "No. Iterations:                     3   Covariance Type:             nonrobust\n",
      "================================================================================\n",
      "                   coef    std err          z      P>|z|      [0.025      0.975]\n",
      "--------------------------------------------------------------------------------\n",
      "Intercept        3.6657      0.536      6.841      0.000       2.616       4.716\n",
      "LotArea       3.516e-06   5.04e-07      6.980      0.000    2.53e-06     4.5e-06\n",
      "OverallQual      0.1305      0.005     25.060      0.000       0.120       0.141\n",
      "YearRemodAdd     0.0035      0.000     12.571      0.000       0.003       0.004\n",
      "TotalBsmtSF      0.0002   1.35e-05     11.639      0.000       0.000       0.000\n",
      "GrLivArea        0.0002   1.17e-05     18.409      0.000       0.000       0.000\n",
      "OverallCond      0.0157      0.004      3.605      0.000       0.007       0.024\n",
      "================================================================================\n"
     ]
    }
   ],
   "source": [
    "# GLM consistent with Ordinary least squares\n",
    "model_ols = glm(formula = form1, data = data, family = sm.families.Gaussian()).fit()\n",
    "print(model_ols.summary())\n",
    "model_ols_ln = glm(formula = form2, data = data, family = sm.families.Gaussian()).fit()\n",
    "print(model_ols_ln.summary())"
   ]
  },
  {
   "cell_type": "code",
   "execution_count": 28,
   "metadata": {},
   "outputs": [
    {
     "name": "stdout",
     "output_type": "stream",
     "text": [
      "Diff1 min: -526,861.28\n",
      "Diff1 max: 286,847.45\n",
      "Diff2 min: -1,770,585.49\n",
      "Diff2 max: 222,326.20\n"
     ]
    },
    {
     "data": {
      "image/png": "[encoded data removed]",
      "text/plain": [
       "<Figure size 432x288 with 2 Axes>"
      ]
     },
     "metadata": {
      "needs_background": "light"
     },
     "output_type": "display_data"
    }
   ],
   "source": [
    "data[\"Pred1\"] = model_ols.predict()\n",
    "data[\"Diff1\"] = data[\"SalePrice\"] - data[\"Pred1\"]\n",
    "data[\"Pred2\"] = np.exp(model_ols_ln.predict())\n",
    "data[\"Diff2\"] = data[\"SalePrice\"] - data[\"Pred2\"]\n",
    "print(\"Diff1 min: \" + \"{:,.2f}\".format(data[\"Diff1\"].min()))\n",
    "print(\"Diff1 max: \" + \"{:,.2f}\".format(data[\"Diff1\"].max()))\n",
    "print(\"Diff2 min: \" + \"{:,.2f}\".format(data[\"Diff2\"].min()))\n",
    "print(\"Diff2 max: \" + \"{:,.2f}\".format(data[\"Diff2\"].max()))\n",
    "\n",
    "plt.subplot(1,2,1)\n",
    "plt.hist(data[\"Diff1\"])\n",
    "plt.xticks(rotation = 60)\n",
    "plt.subplot(1,2,2)\n",
    "plt.hist(data[\"Diff2\"])\n",
    "plt.xticks(rotation = 60)\n",
    "plt.show()"
   ]
  },
  {
   "cell_type": "code",
   "execution_count": 29,
   "metadata": {},
   "outputs": [
    {
     "data": {
      "image/png": "[encoded data removed]",
      "text/plain": [
       "<Figure size 432x288 with 2 Axes>"
      ]
     },
     "metadata": {
      "needs_background": "light"
     },
     "output_type": "display_data"
    }
   ],
   "source": [
    "plt.subplot(1,2,1)\n",
    "plt.scatter(np.sort(data[\"Pred1\"]),np.sort(data[\"SalePrice\"]))\n",
    "plt.title(\"Based on SalePrice\")\n",
    "plt.xticks(rotation = 60)\n",
    "plt.subplot(1,2,2)\n",
    "plt.scatter(np.sort(data[\"Pred2\"]),np.sort(data[\"SalePrice\"]))\n",
    "plt.title(\"Based on log(SalePrice)\")\n",
    "plt.xticks(rotation = 60)\n",
    "plt.show()"
   ]
  },
  {
   "cell_type": "code",
   "execution_count": 103,
   "metadata": {},
   "outputs": [
    {
     "data": {
      "text/html": [
       "<div>\n",
       "<style scoped>\n",
       "    .dataframe tbody tr th:only-of-type {\n",
       "        vertical-align: middle;\n",
       "    }\n",
       "\n",
       "    .dataframe tbody tr th {\n",
       "        vertical-align: top;\n",
       "    }\n",
       "\n",
       "    .dataframe thead th {\n",
       "        text-align: right;\n",
       "    }\n",
       "</style>\n",
       "<table border=\"1\" class=\"dataframe\">\n",
       "  <thead>\n",
       "    <tr style=\"text-align: right;\">\n",
       "      <th></th>\n",
       "      <th>LotArea</th>\n",
       "      <th>OverallQual</th>\n",
       "      <th>YearRemodAdd</th>\n",
       "      <th>TotalBsmtSF</th>\n",
       "      <th>GrLivArea</th>\n",
       "      <th>Neighborhood</th>\n",
       "      <th>BldgType</th>\n",
       "      <th>SalePrice</th>\n",
       "      <th>Pred1</th>\n",
       "      <th>Diff1</th>\n",
       "      <th>Pred2</th>\n",
       "      <th>Diff2</th>\n",
       "    </tr>\n",
       "  </thead>\n",
       "  <tbody>\n",
       "    <tr>\n",
       "      <th>523</th>\n",
       "      <td>40094</td>\n",
       "      <td>10</td>\n",
       "      <td>2008</td>\n",
       "      <td>3138</td>\n",
       "      <td>4676</td>\n",
       "      <td>7</td>\n",
       "      <td>0</td>\n",
       "      <td>184750</td>\n",
       "      <td>522692.062079</td>\n",
       "      <td>-337942.062079</td>\n",
       "      <td>8.841691e+05</td>\n",
       "      <td>-6.994191e+05</td>\n",
       "    </tr>\n",
       "    <tr>\n",
       "      <th>1298</th>\n",
       "      <td>63887</td>\n",
       "      <td>10</td>\n",
       "      <td>2008</td>\n",
       "      <td>6110</td>\n",
       "      <td>5642</td>\n",
       "      <td>7</td>\n",
       "      <td>0</td>\n",
       "      <td>160000</td>\n",
       "      <td>678046.123497</td>\n",
       "      <td>-518046.123497</td>\n",
       "      <td>1.812690e+06</td>\n",
       "      <td>-1.652690e+06</td>\n",
       "    </tr>\n",
       "  </tbody>\n",
       "</table>\n",
       "</div>"
      ],
      "text/plain": [
       "      LotArea  OverallQual  YearRemodAdd  TotalBsmtSF  GrLivArea  \\\n",
       "523     40094           10          2008         3138       4676   \n",
       "1298    63887           10          2008         6110       5642   \n",
       "\n",
       "      Neighborhood  BldgType  SalePrice          Pred1          Diff1  \\\n",
       "523              7         0     184750  522692.062079 -337942.062079   \n",
       "1298             7         0     160000  678046.123497 -518046.123497   \n",
       "\n",
       "             Pred2         Diff2  \n",
       "523   8.841691e+05 -6.994191e+05  \n",
       "1298  1.812690e+06 -1.652690e+06  "
      ]
     },
     "execution_count": 103,
     "metadata": {},
     "output_type": "execute_result"
    }
   ],
   "source": [
    "data_model = data[[\"LotArea\", \"OverallQual\", \"YearRemodAdd\", \"TotalBsmtSF\", \"GrLivArea\", \"Neighborhood\", \"BldgType\",\n",
    "                   \"SalePrice\", \"Pred1\", \"Diff1\", \"Pred2\",\"Diff2\"]]\n",
    "outliers = data_model[data_model[\"Diff2\"] < -500000]\n",
    "outliers"
   ]
  },
  {
   "cell_type": "code",
   "execution_count": 104,
   "metadata": {},
   "outputs": [
    {
     "data": {
      "text/html": [
       "<div>\n",
       "<style scoped>\n",
       "    .dataframe tbody tr th:only-of-type {\n",
       "        vertical-align: middle;\n",
       "    }\n",
       "\n",
       "    .dataframe tbody tr th {\n",
       "        vertical-align: top;\n",
       "    }\n",
       "\n",
       "    .dataframe thead th {\n",
       "        text-align: right;\n",
       "    }\n",
       "</style>\n",
       "<table border=\"1\" class=\"dataframe\">\n",
       "  <thead>\n",
       "    <tr style=\"text-align: right;\">\n",
       "      <th></th>\n",
       "      <th>LotArea</th>\n",
       "      <th>OverallQual</th>\n",
       "      <th>YearRemodAdd</th>\n",
       "      <th>TotalBsmtSF</th>\n",
       "      <th>GrLivArea</th>\n",
       "      <th>Neighborhood</th>\n",
       "      <th>BldgType</th>\n",
       "      <th>SalePrice</th>\n",
       "      <th>Pred1</th>\n",
       "      <th>Diff1</th>\n",
       "      <th>Pred2</th>\n",
       "      <th>Diff2</th>\n",
       "    </tr>\n",
       "  </thead>\n",
       "  <tbody>\n",
       "    <tr>\n",
       "      <th>523</th>\n",
       "      <td>40094</td>\n",
       "      <td>10</td>\n",
       "      <td>2008</td>\n",
       "      <td>3138</td>\n",
       "      <td>4676</td>\n",
       "      <td>7</td>\n",
       "      <td>0</td>\n",
       "      <td>184750</td>\n",
       "      <td>522692.062079</td>\n",
       "      <td>-337942.062079</td>\n",
       "      <td>8.841691e+05</td>\n",
       "      <td>-6.994191e+05</td>\n",
       "    </tr>\n",
       "    <tr>\n",
       "      <th>724</th>\n",
       "      <td>13286</td>\n",
       "      <td>9</td>\n",
       "      <td>2008</td>\n",
       "      <td>1698</td>\n",
       "      <td>1698</td>\n",
       "      <td>7</td>\n",
       "      <td>0</td>\n",
       "      <td>320000</td>\n",
       "      <td>298309.358557</td>\n",
       "      <td>21690.641443</td>\n",
       "      <td>3.097010e+05</td>\n",
       "      <td>1.029902e+04</td>\n",
       "    </tr>\n",
       "    <tr>\n",
       "      <th>1298</th>\n",
       "      <td>63887</td>\n",
       "      <td>10</td>\n",
       "      <td>2008</td>\n",
       "      <td>6110</td>\n",
       "      <td>5642</td>\n",
       "      <td>7</td>\n",
       "      <td>0</td>\n",
       "      <td>160000</td>\n",
       "      <td>678046.123497</td>\n",
       "      <td>-518046.123497</td>\n",
       "      <td>1.812690e+06</td>\n",
       "      <td>-1.652690e+06</td>\n",
       "    </tr>\n",
       "  </tbody>\n",
       "</table>\n",
       "</div>"
      ],
      "text/plain": [
       "      LotArea  OverallQual  YearRemodAdd  TotalBsmtSF  GrLivArea  \\\n",
       "523     40094           10          2008         3138       4676   \n",
       "724     13286            9          2008         1698       1698   \n",
       "1298    63887           10          2008         6110       5642   \n",
       "\n",
       "      Neighborhood  BldgType  SalePrice          Pred1          Diff1  \\\n",
       "523              7         0     184750  522692.062079 -337942.062079   \n",
       "724              7         0     320000  298309.358557   21690.641443   \n",
       "1298             7         0     160000  678046.123497 -518046.123497   \n",
       "\n",
       "             Pred2         Diff2  \n",
       "523   8.841691e+05 -6.994191e+05  \n",
       "724   3.097010e+05  1.029902e+04  \n",
       "1298  1.812690e+06 -1.652690e+06  "
      ]
     },
     "execution_count": 104,
     "metadata": {},
     "output_type": "execute_result"
    }
   ],
   "source": [
    "test = data_model[(data_model[\"Neighborhood\"] == 7) & (data_model[\"OverallQual\"] > 7)]\n",
    "test"
   ]
  },
  {
   "cell_type": "code",
   "execution_count": 12,
   "metadata": {},
   "outputs": [
    {
     "data": {
      "text/plain": [
       "Ttest_indResult(statistic=-7.380999351624349e-14, pvalue=0.9999999999999412)"
      ]
     },
     "execution_count": 12,
     "metadata": {},
     "output_type": "execute_result"
    }
   ],
   "source": [
    "stats.ttest_ind(data[\"SalePrice\"],data[\"Pred1\"], equal_var=False)"
   ]
  },
  {
   "cell_type": "code",
   "execution_count": 13,
   "metadata": {},
   "outputs": [
    {
     "data": {
      "text/plain": [
       "Ttest_indResult(statistic=0.7198888475596702, pvalue=0.47165118439387965)"
      ]
     },
     "execution_count": 13,
     "metadata": {},
     "output_type": "execute_result"
    }
   ],
   "source": [
    "stats.ttest_ind(data[\"SalePrice\"],data[\"Pred2\"], equal_var=False)"
   ]
  },
  {
   "cell_type": "code",
   "execution_count": null,
   "metadata": {},
   "outputs": [],
   "source": []
  }
 ],
 "metadata": {
  "kernelspec": {
   "display_name": "PythonData (PythonData)",
   "language": "python",
   "name": "pythondata"
  },
  "language_info": {
   "codemirror_mode": {
    "name": "ipython",
    "version": 3
   },
   "file_extension": ".py",
   "mimetype": "text/x-python",
   "name": "python",
   "nbconvert_exporter": "python",
   "pygments_lexer": "ipython3",
   "version": "3.7.3"
  }
 },
 "nbformat": 4,
 "nbformat_minor": 2
}
